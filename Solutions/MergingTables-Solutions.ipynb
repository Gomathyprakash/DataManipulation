{
 "cells": [
  {
   "cell_type": "code",
   "execution_count": 1,
   "id": "2ea67098",
   "metadata": {},
   "outputs": [],
   "source": [
    "import pandas as pd"
   ]
  },
  {
   "cell_type": "markdown",
   "id": "61e60715",
   "metadata": {},
   "source": [
    "# *Data Manipulation Notebook 2:*  Appending, Concatinating, Merging, and Joining Tables"
   ]
  },
  {
   "cell_type": "code",
   "execution_count": 2,
   "id": "91da9073",
   "metadata": {},
   "outputs": [],
   "source": [
    "flowers = pd.DataFrame({\n",
    "    \"Name\" : [\"Iris\", \"Peony\", \"Daisy\", \"Petunia\", \"Impatiens\", \"Creeping Myrtle\"], \n",
    "    \"Plant_Type\" : [\"Perennial\", \"Perennial\",\"Annual\", \"Annual\", \"Annual\", \"Perennial\"],\n",
    "    \"Sun_Shade\": [\"Full Sun\", \"Full Sun\", \"Partial Sun\", \"Partial Sun\", \"Partial Shade\", \"Full Shade\" ]\n",
    "    \n",
    "})\n",
    "\n",
    "garden_supply = pd.DataFrame({\n",
    "    \"Flower\" : [\"Daylily\",\"Iris\", \"Peony\",\"Petunia\", \"Petunia\", \"Impatiens\", \"Coneflower\"],\n",
    "    \"Sold_As\" : [\"Container\", \"Bulb Pack\", \"Root Pack\",\"Container Pack\", \"Mixed Container\", \"Container Pack\", \"Container\"],\n",
    "    \"Amt_Package\" : [1, 25, 5, 4, 1, 4, 1]\n",
    "})\n",
    "\n",
    "shrubs = pd.DataFrame({\n",
    "    \"Name\" : [\"Boxwood\", \"Hydrangea\", \"Dipladenia\", \"Gardenia\"], \n",
    "    \"Plant_Type\" : [\"Evergreen\", \"Flowering\", \"Flowering\", \"Flowering\"],\n",
    "    \"Sun_Shade\": [\"Partial Sund\", \"Partial Sun\", \"Partial Shade\", \"Full Sun\" ]\n",
    "})"
   ]
  },
  {
   "cell_type": "markdown",
   "id": "03c6e4ad",
   "metadata": {},
   "source": [
    "<span style=\"background-color:dodgerblue; color:dodgerblue;\">- - - - - - - - - - - - - - - - - - - - - - - - - - - - - - - - - - - - - - - - - - - - - - - - - - - - - - - - - - - - - - - - - - - - - - - - - - - - - - - - - - - - - - - - -</span> "
   ]
  },
  {
   "cell_type": "markdown",
   "id": "e20a8607",
   "metadata": {},
   "source": [
    "# Part 1: Append "
   ]
  },
  {
   "cell_type": "code",
   "execution_count": 3,
   "id": "d4745cde",
   "metadata": {},
   "outputs": [
    {
     "name": "stderr",
     "output_type": "stream",
     "text": [
      "C:\\Users\\praka\\AppData\\Local\\Temp\\ipykernel_26372\\3413256132.py:2: FutureWarning: The frame.append method is deprecated and will be removed from pandas in a future version. Use pandas.concat instead.\n",
      "  append_plants = flowers.append(shrubs)\n"
     ]
    }
   ],
   "source": [
    "#SOLUTION\n",
    "append_plants = flowers.append(shrubs)"
   ]
  },
  {
   "cell_type": "code",
   "execution_count": 4,
   "id": "c0287bc3",
   "metadata": {},
   "outputs": [
    {
     "name": "stderr",
     "output_type": "stream",
     "text": [
      "C:\\Users\\praka\\AppData\\Local\\Temp\\ipykernel_26372\\1113265745.py:2: FutureWarning: The frame.append method is deprecated and will be removed from pandas in a future version. Use pandas.concat instead.\n",
      "  append_plants = flowers.append(shrubs, ignore_index=True)\n"
     ]
    },
    {
     "data": {
      "text/html": [
       "<div>\n",
       "<style scoped>\n",
       "    .dataframe tbody tr th:only-of-type {\n",
       "        vertical-align: middle;\n",
       "    }\n",
       "\n",
       "    .dataframe tbody tr th {\n",
       "        vertical-align: top;\n",
       "    }\n",
       "\n",
       "    .dataframe thead th {\n",
       "        text-align: right;\n",
       "    }\n",
       "</style>\n",
       "<table border=\"1\" class=\"dataframe\">\n",
       "  <thead>\n",
       "    <tr style=\"text-align: right;\">\n",
       "      <th></th>\n",
       "      <th>Name</th>\n",
       "      <th>Plant_Type</th>\n",
       "      <th>Sun_Shade</th>\n",
       "    </tr>\n",
       "  </thead>\n",
       "  <tbody>\n",
       "    <tr>\n",
       "      <th>0</th>\n",
       "      <td>Iris</td>\n",
       "      <td>Perennial</td>\n",
       "      <td>Full Sun</td>\n",
       "    </tr>\n",
       "    <tr>\n",
       "      <th>1</th>\n",
       "      <td>Peony</td>\n",
       "      <td>Perennial</td>\n",
       "      <td>Full Sun</td>\n",
       "    </tr>\n",
       "    <tr>\n",
       "      <th>2</th>\n",
       "      <td>Daisy</td>\n",
       "      <td>Annual</td>\n",
       "      <td>Partial Sun</td>\n",
       "    </tr>\n",
       "    <tr>\n",
       "      <th>3</th>\n",
       "      <td>Petunia</td>\n",
       "      <td>Annual</td>\n",
       "      <td>Partial Sun</td>\n",
       "    </tr>\n",
       "    <tr>\n",
       "      <th>4</th>\n",
       "      <td>Impatiens</td>\n",
       "      <td>Annual</td>\n",
       "      <td>Partial Shade</td>\n",
       "    </tr>\n",
       "    <tr>\n",
       "      <th>5</th>\n",
       "      <td>Creeping Myrtle</td>\n",
       "      <td>Perennial</td>\n",
       "      <td>Full Shade</td>\n",
       "    </tr>\n",
       "    <tr>\n",
       "      <th>6</th>\n",
       "      <td>Boxwood</td>\n",
       "      <td>Evergreen</td>\n",
       "      <td>Partial Sund</td>\n",
       "    </tr>\n",
       "    <tr>\n",
       "      <th>7</th>\n",
       "      <td>Hydrangea</td>\n",
       "      <td>Flowering</td>\n",
       "      <td>Partial Sun</td>\n",
       "    </tr>\n",
       "    <tr>\n",
       "      <th>8</th>\n",
       "      <td>Dipladenia</td>\n",
       "      <td>Flowering</td>\n",
       "      <td>Partial Shade</td>\n",
       "    </tr>\n",
       "    <tr>\n",
       "      <th>9</th>\n",
       "      <td>Gardenia</td>\n",
       "      <td>Flowering</td>\n",
       "      <td>Full Sun</td>\n",
       "    </tr>\n",
       "  </tbody>\n",
       "</table>\n",
       "</div>"
      ],
      "text/plain": [
       "              Name Plant_Type      Sun_Shade\n",
       "0             Iris  Perennial       Full Sun\n",
       "1            Peony  Perennial       Full Sun\n",
       "2            Daisy     Annual    Partial Sun\n",
       "3          Petunia     Annual    Partial Sun\n",
       "4        Impatiens     Annual  Partial Shade\n",
       "5  Creeping Myrtle  Perennial     Full Shade\n",
       "6          Boxwood  Evergreen   Partial Sund\n",
       "7        Hydrangea  Flowering    Partial Sun\n",
       "8       Dipladenia  Flowering  Partial Shade\n",
       "9         Gardenia  Flowering       Full Sun"
      ]
     },
     "execution_count": 4,
     "metadata": {},
     "output_type": "execute_result"
    }
   ],
   "source": [
    "# SOLUTION\n",
    "append_plants = flowers.append(shrubs, ignore_index=True)\n",
    "append_plants"
   ]
  },
  {
   "cell_type": "markdown",
   "id": "fd457c92",
   "metadata": {},
   "source": [
    "<span style=\"background-color:dodgerblue; color:dodgerblue;\">- - - - - - - - - - - - - - - - - - - - - - - - - - - - - - - - - - - - - - - - - - - - - - - - - - - - - - - - - - - - - - - - - - - - - - - - - - - - - - - - - - - - - - - - -</span> "
   ]
  },
  {
   "cell_type": "markdown",
   "id": "869b81e3",
   "metadata": {},
   "source": [
    "# Part 2: Concatenation"
   ]
  },
  {
   "cell_type": "code",
   "execution_count": 5,
   "id": "71c5fe1d",
   "metadata": {},
   "outputs": [],
   "source": [
    "# Concatenate flowers and shrubs horizontally here:\n",
    "\n",
    "#SOLUTION\n",
    "flowers_shrubs = pd.concat([flowers, shrubs], axis=1)"
   ]
  },
  {
   "cell_type": "markdown",
   "id": "5646ff5f",
   "metadata": {},
   "source": [
    "<span style=\"background-color:dodgerblue; color:dodgerblue;\">- - - - - - - - - - - - - - - - - - - - - - - - - - - - - - - - - - - - - - - - - - - - - - - - - - - - - - - - - - - - - - - - - - - - - - - - - - - - - - - - - - - - - - - - -</span> "
   ]
  },
  {
   "cell_type": "markdown",
   "id": "a67ac6ea",
   "metadata": {},
   "source": [
    "# Part 3:  Merge "
   ]
  },
  {
   "cell_type": "code",
   "execution_count": 6,
   "id": "0b0f427f",
   "metadata": {},
   "outputs": [],
   "source": [
    "# Run this code: (uncomment)\n",
    "# flowers.merge(garden_supply)\n",
    "\n",
    "#Why isn't this working?\n",
    "\n",
    "# SOLUTION: no common key"
   ]
  },
  {
   "cell_type": "markdown",
   "id": "396593ce",
   "metadata": {},
   "source": [
    "### Option 1:  Rename a column in the flowers table.\n",
    "\n",
    "Create a variable to hold your updated table.  \n",
    "apply the following syntax to update your column names: **table_name.rename(columns={\"original_name\": \"new_name\"})**"
   ]
  },
  {
   "cell_type": "code",
   "execution_count": 7,
   "id": "f275d8c6",
   "metadata": {},
   "outputs": [],
   "source": [
    "# Code Option 1 here.  Be sure to run your table before moving on to option 2.\n",
    "\n",
    "#SOLUTION\n",
    "rename_flowers_col = flowers.rename(columns={\"Name\": \"Flower\"})"
   ]
  },
  {
   "cell_type": "markdown",
   "id": "240fd2d4",
   "metadata": {},
   "source": [
    "#### Option 1 Testing:\n",
    "Merge garden_supply with you updated table in a new variable.\n",
    "Run your newly merged table and examine it."
   ]
  },
  {
   "cell_type": "code",
   "execution_count": 22,
   "id": "9d5ddf17",
   "metadata": {},
   "outputs": [
    {
     "data": {
      "text/html": [
       "<div>\n",
       "<style scoped>\n",
       "    .dataframe tbody tr th:only-of-type {\n",
       "        vertical-align: middle;\n",
       "    }\n",
       "\n",
       "    .dataframe tbody tr th {\n",
       "        vertical-align: top;\n",
       "    }\n",
       "\n",
       "    .dataframe thead th {\n",
       "        text-align: right;\n",
       "    }\n",
       "</style>\n",
       "<table border=\"1\" class=\"dataframe\">\n",
       "  <thead>\n",
       "    <tr style=\"text-align: right;\">\n",
       "      <th></th>\n",
       "      <th>Flower</th>\n",
       "      <th>Plant_Type</th>\n",
       "      <th>Sun_Shade</th>\n",
       "      <th>Sold_As</th>\n",
       "      <th>Amt_Package</th>\n",
       "    </tr>\n",
       "  </thead>\n",
       "  <tbody>\n",
       "    <tr>\n",
       "      <th>0</th>\n",
       "      <td>Iris</td>\n",
       "      <td>Perennial</td>\n",
       "      <td>Full Sun</td>\n",
       "      <td>Bulb Pack</td>\n",
       "      <td>25</td>\n",
       "    </tr>\n",
       "    <tr>\n",
       "      <th>1</th>\n",
       "      <td>Peony</td>\n",
       "      <td>Perennial</td>\n",
       "      <td>Full Sun</td>\n",
       "      <td>Root Pack</td>\n",
       "      <td>5</td>\n",
       "    </tr>\n",
       "    <tr>\n",
       "      <th>2</th>\n",
       "      <td>Petunia</td>\n",
       "      <td>Annual</td>\n",
       "      <td>Partial Sun</td>\n",
       "      <td>Container Pack</td>\n",
       "      <td>4</td>\n",
       "    </tr>\n",
       "    <tr>\n",
       "      <th>3</th>\n",
       "      <td>Petunia</td>\n",
       "      <td>Annual</td>\n",
       "      <td>Partial Sun</td>\n",
       "      <td>Mixed Container</td>\n",
       "      <td>1</td>\n",
       "    </tr>\n",
       "    <tr>\n",
       "      <th>4</th>\n",
       "      <td>Impatiens</td>\n",
       "      <td>Annual</td>\n",
       "      <td>Partial Shade</td>\n",
       "      <td>Container Pack</td>\n",
       "      <td>4</td>\n",
       "    </tr>\n",
       "  </tbody>\n",
       "</table>\n",
       "</div>"
      ],
      "text/plain": [
       "      Flower Plant_Type      Sun_Shade          Sold_As  Amt_Package\n",
       "0       Iris  Perennial       Full Sun        Bulb Pack           25\n",
       "1      Peony  Perennial       Full Sun        Root Pack            5\n",
       "2    Petunia     Annual    Partial Sun   Container Pack            4\n",
       "3    Petunia     Annual    Partial Sun  Mixed Container            1\n",
       "4  Impatiens     Annual  Partial Shade   Container Pack            4"
      ]
     },
     "execution_count": 22,
     "metadata": {},
     "output_type": "execute_result"
    }
   ],
   "source": [
    "# Test Option 1 here:\n",
    "#SOLUTION\n",
    "\n",
    "merge_rename = rename_flowers_col.merge(garden_supply)\n",
    "merge_rename"
   ]
  },
  {
   "cell_type": "markdown",
   "id": "7c9200d0",
   "metadata": {},
   "source": [
    "### Option 2: Using the merge method's parameters \"left_on\" & \"right_on\"\n",
    "\n",
    "Option 2 can be used when if you would rather not rename any columns.\n",
    "Using the syntax below as a guide, create a table where you merge the *flowers* table on the \"Name\" column and the *garden_supply* on the \"Flower\".  Set your tables up where *flowers* is on the left and *garden_supply* on the right\n",
    "    \n",
    "Syntax:  **left_table.merge(right_table, left_on=\"column_name\", right_on=\"column_name\")**"
   ]
  },
  {
   "cell_type": "code",
   "execution_count": 9,
   "id": "c13290b3",
   "metadata": {},
   "outputs": [],
   "source": [
    "# Code Option 2 here:\n",
    "# SOLUTION\n",
    "merge_only = flowers.merge(garden_supply, left_on=\"Name\", right_on=\"Flower\")"
   ]
  },
  {
   "cell_type": "markdown",
   "id": "7badc6e0",
   "metadata": {},
   "source": [
    "### Sytnax Exploring:\n",
    "Using the syntax in Option 2, perform the same merge, but this time *garden_supply* on the left and *flowers* on the right.  What do you notice?"
   ]
  },
  {
   "cell_type": "code",
   "execution_count": 10,
   "id": "0e3dc0da",
   "metadata": {},
   "outputs": [],
   "source": [
    "#  Code your Syntax Exploration here:\n",
    "#SOLUTION\n",
    "merge_only1 = garden_supply.merge(flowers, left_on=\"Flower\", right_on=\"Name\")"
   ]
  },
  {
   "cell_type": "markdown",
   "id": "d653bc84",
   "metadata": {},
   "source": [
    "<span style=\"background-color:dodgerblue; color:dodgerblue;\">- - - - - - - - - - - - - - - - - - - - - - - - - - - - - - - - - - - - - - - - - - - - - - - - - - - - - - - - - - - - - - - - - - - - - - - - - - - - - - - - - - - - - - - - -</span> "
   ]
  },
  {
   "cell_type": "markdown",
   "id": "518b0605",
   "metadata": {},
   "source": [
    "# Part 4:  Types of Merges "
   ]
  },
  {
   "cell_type": "markdown",
   "id": "d3caac1e",
   "metadata": {},
   "source": [
    "## 4a: Inner Merge"
   ]
  },
  {
   "cell_type": "code",
   "execution_count": 11,
   "id": "3f868d9a",
   "metadata": {},
   "outputs": [],
   "source": [
    "inner = pd.merge(flowers, garden_supply, how=\"inner\", left_on=\"Name\", right_on=\"Flower\", indicator=True)"
   ]
  },
  {
   "cell_type": "code",
   "execution_count": 12,
   "id": "1033af35",
   "metadata": {},
   "outputs": [],
   "source": [
    "# Explain this table.  How is it organized?  Why are there only 5 rows?\n",
    "#SOLUTION - contains shared between left and right table, where name = flower"
   ]
  },
  {
   "cell_type": "markdown",
   "id": "80a2e0cb",
   "metadata": {},
   "source": [
    "## 4b: Left Merge"
   ]
  },
  {
   "cell_type": "code",
   "execution_count": 13,
   "id": "e6eabfbc",
   "metadata": {},
   "outputs": [],
   "source": [
    "# Create a left merge table:\n",
    "\n",
    "#SOLUTION\n",
    "left = pd.merge(flowers, garden_supply, how=\"left\", left_on=\"Name\", right_on=\"Flower\", indicator=True)"
   ]
  },
  {
   "cell_type": "markdown",
   "id": "fd4dc955",
   "metadata": {},
   "source": [
    "## 4c: Right Merge"
   ]
  },
  {
   "cell_type": "code",
   "execution_count": 14,
   "id": "48eac82a",
   "metadata": {},
   "outputs": [],
   "source": [
    "right = pd.merge(flowers, garden_supply, how=\"right\", left_on=\"Name\", right_on=\"Flower\", indicator=True)"
   ]
  },
  {
   "cell_type": "code",
   "execution_count": 15,
   "id": "18f4c32b",
   "metadata": {},
   "outputs": [],
   "source": [
    "# The syntax for right merge has been provided.\n",
    "# In your own words, explain how it is different from the left merge in 4b:\n",
    "    # All values from right table and any shared values in the left table are contained in the table.\n",
    "    # Any values that are only in the left table are represented by \"NaN\" and are not in this table."
   ]
  },
  {
   "cell_type": "markdown",
   "id": "62702b32",
   "metadata": {},
   "source": [
    "## Outer Merge"
   ]
  },
  {
   "cell_type": "code",
   "execution_count": 16,
   "id": "c3ccb28f",
   "metadata": {},
   "outputs": [],
   "source": [
    "# Create an outer merge table:\n",
    "\n",
    "#SOLUTION - if they used Option 2\n",
    "outer = pd.merge(flowers, garden_supply, how=\"outer\", left_on=\"Name\", right_on=\"Flower\", indicator=True)"
   ]
  },
  {
   "cell_type": "markdown",
   "id": "d304c06a",
   "metadata": {},
   "source": [
    "## Anti_Merge\n",
    "\n",
    "An **Anti Merge** is a merge based on what is leftout.  This is not an actual table, but you can create one with a little code and logic.  Read through the code below to see one way to create an anti-table."
   ]
  },
  {
   "cell_type": "code",
   "execution_count": 17,
   "id": "20502209",
   "metadata": {},
   "outputs": [],
   "source": [
    "left_join = flowers.merge(garden_supply, how=\"left\", left_on=\"Name\", right_on=\"Flower\", indicator=True) \n",
    "left_only = left_join.loc[left_join[\"_merge\"] ==\"left_only\", \"Name\"]\n",
    "left_only_flowers=flowers[flowers[\"Name\"].isin(left_only)]\n",
    "\n",
    "# In your own words, how did we create the \"left_only_flowers\" table?  Answers may vary\n",
    "    # Started by merging our table together (left_join)\n",
    "    # Create a variable to hold our \"left_only\" flowers\n",
    "    # Created table contianing items in the left_only variable"
   ]
  },
  {
   "cell_type": "markdown",
   "id": "e4e74e53",
   "metadata": {},
   "source": [
    "<span style=\"background-color:dodgerblue; color:dodgerblue;\">- - - - - - - - - - - - - - - - - - - - - - - - - - - - - - - - - - - - - - - - - - - - - - - - - - - - - - - - - - - - - - - - - - - - - - - - - - - - - - - - - - - - - - - - -</span> "
   ]
  },
  {
   "cell_type": "markdown",
   "id": "c08565e0",
   "metadata": {},
   "source": [
    "# Part 5: Join"
   ]
  },
  {
   "cell_type": "code",
   "execution_count": 25,
   "id": "d21a3d0b",
   "metadata": {},
   "outputs": [
    {
     "data": {
      "text/html": [
       "<div>\n",
       "<style scoped>\n",
       "    .dataframe tbody tr th:only-of-type {\n",
       "        vertical-align: middle;\n",
       "    }\n",
       "\n",
       "    .dataframe tbody tr th {\n",
       "        vertical-align: top;\n",
       "    }\n",
       "\n",
       "    .dataframe thead th {\n",
       "        text-align: right;\n",
       "    }\n",
       "</style>\n",
       "<table border=\"1\" class=\"dataframe\">\n",
       "  <thead>\n",
       "    <tr style=\"text-align: right;\">\n",
       "      <th></th>\n",
       "      <th>Name</th>\n",
       "      <th>Plant_Type</th>\n",
       "      <th>Sun_Shade</th>\n",
       "      <th>Flower</th>\n",
       "      <th>Sold_As</th>\n",
       "      <th>Amt_Package</th>\n",
       "    </tr>\n",
       "  </thead>\n",
       "  <tbody>\n",
       "    <tr>\n",
       "      <th>0</th>\n",
       "      <td>Iris</td>\n",
       "      <td>Perennial</td>\n",
       "      <td>Full Sun</td>\n",
       "      <td>Daylily</td>\n",
       "      <td>Container</td>\n",
       "      <td>1</td>\n",
       "    </tr>\n",
       "    <tr>\n",
       "      <th>1</th>\n",
       "      <td>Peony</td>\n",
       "      <td>Perennial</td>\n",
       "      <td>Full Sun</td>\n",
       "      <td>Iris</td>\n",
       "      <td>Bulb Pack</td>\n",
       "      <td>25</td>\n",
       "    </tr>\n",
       "    <tr>\n",
       "      <th>2</th>\n",
       "      <td>Daisy</td>\n",
       "      <td>Annual</td>\n",
       "      <td>Partial Sun</td>\n",
       "      <td>Peony</td>\n",
       "      <td>Root Pack</td>\n",
       "      <td>5</td>\n",
       "    </tr>\n",
       "    <tr>\n",
       "      <th>3</th>\n",
       "      <td>Petunia</td>\n",
       "      <td>Annual</td>\n",
       "      <td>Partial Sun</td>\n",
       "      <td>Petunia</td>\n",
       "      <td>Container Pack</td>\n",
       "      <td>4</td>\n",
       "    </tr>\n",
       "    <tr>\n",
       "      <th>4</th>\n",
       "      <td>Impatiens</td>\n",
       "      <td>Annual</td>\n",
       "      <td>Partial Shade</td>\n",
       "      <td>Petunia</td>\n",
       "      <td>Mixed Container</td>\n",
       "      <td>1</td>\n",
       "    </tr>\n",
       "    <tr>\n",
       "      <th>5</th>\n",
       "      <td>Creeping Myrtle</td>\n",
       "      <td>Perennial</td>\n",
       "      <td>Full Shade</td>\n",
       "      <td>Impatiens</td>\n",
       "      <td>Container Pack</td>\n",
       "      <td>4</td>\n",
       "    </tr>\n",
       "  </tbody>\n",
       "</table>\n",
       "</div>"
      ],
      "text/plain": [
       "              Name Plant_Type      Sun_Shade     Flower          Sold_As  \\\n",
       "0             Iris  Perennial       Full Sun    Daylily        Container   \n",
       "1            Peony  Perennial       Full Sun       Iris        Bulb Pack   \n",
       "2            Daisy     Annual    Partial Sun      Peony        Root Pack   \n",
       "3          Petunia     Annual    Partial Sun    Petunia   Container Pack   \n",
       "4        Impatiens     Annual  Partial Shade    Petunia  Mixed Container   \n",
       "5  Creeping Myrtle  Perennial     Full Shade  Impatiens   Container Pack   \n",
       "\n",
       "   Amt_Package  \n",
       "0            1  \n",
       "1           25  \n",
       "2            5  \n",
       "3            4  \n",
       "4            1  \n",
       "5            4  "
      ]
     },
     "execution_count": 25,
     "metadata": {},
     "output_type": "execute_result"
    }
   ],
   "source": [
    "join = flowers.join(garden_supply)\n",
    "join"
   ]
  },
  {
   "cell_type": "code",
   "execution_count": 26,
   "id": "a7cfda58",
   "metadata": {},
   "outputs": [
    {
     "data": {
      "text/html": [
       "<div>\n",
       "<style scoped>\n",
       "    .dataframe tbody tr th:only-of-type {\n",
       "        vertical-align: middle;\n",
       "    }\n",
       "\n",
       "    .dataframe tbody tr th {\n",
       "        vertical-align: top;\n",
       "    }\n",
       "\n",
       "    .dataframe thead th {\n",
       "        text-align: right;\n",
       "    }\n",
       "</style>\n",
       "<table border=\"1\" class=\"dataframe\">\n",
       "  <thead>\n",
       "    <tr style=\"text-align: right;\">\n",
       "      <th></th>\n",
       "      <th>Flower</th>\n",
       "      <th>Sold_As</th>\n",
       "      <th>Amt_Package</th>\n",
       "      <th>Name</th>\n",
       "      <th>Plant_Type</th>\n",
       "      <th>Sun_Shade</th>\n",
       "    </tr>\n",
       "  </thead>\n",
       "  <tbody>\n",
       "    <tr>\n",
       "      <th>0</th>\n",
       "      <td>Daylily</td>\n",
       "      <td>Container</td>\n",
       "      <td>1</td>\n",
       "      <td>Iris</td>\n",
       "      <td>Perennial</td>\n",
       "      <td>Full Sun</td>\n",
       "    </tr>\n",
       "    <tr>\n",
       "      <th>1</th>\n",
       "      <td>Iris</td>\n",
       "      <td>Bulb Pack</td>\n",
       "      <td>25</td>\n",
       "      <td>Peony</td>\n",
       "      <td>Perennial</td>\n",
       "      <td>Full Sun</td>\n",
       "    </tr>\n",
       "    <tr>\n",
       "      <th>2</th>\n",
       "      <td>Peony</td>\n",
       "      <td>Root Pack</td>\n",
       "      <td>5</td>\n",
       "      <td>Daisy</td>\n",
       "      <td>Annual</td>\n",
       "      <td>Partial Sun</td>\n",
       "    </tr>\n",
       "    <tr>\n",
       "      <th>3</th>\n",
       "      <td>Petunia</td>\n",
       "      <td>Container Pack</td>\n",
       "      <td>4</td>\n",
       "      <td>Petunia</td>\n",
       "      <td>Annual</td>\n",
       "      <td>Partial Sun</td>\n",
       "    </tr>\n",
       "    <tr>\n",
       "      <th>4</th>\n",
       "      <td>Petunia</td>\n",
       "      <td>Mixed Container</td>\n",
       "      <td>1</td>\n",
       "      <td>Impatiens</td>\n",
       "      <td>Annual</td>\n",
       "      <td>Partial Shade</td>\n",
       "    </tr>\n",
       "    <tr>\n",
       "      <th>5</th>\n",
       "      <td>Impatiens</td>\n",
       "      <td>Container Pack</td>\n",
       "      <td>4</td>\n",
       "      <td>Creeping Myrtle</td>\n",
       "      <td>Perennial</td>\n",
       "      <td>Full Shade</td>\n",
       "    </tr>\n",
       "  </tbody>\n",
       "</table>\n",
       "</div>"
      ],
      "text/plain": [
       "      Flower          Sold_As  Amt_Package             Name Plant_Type  \\\n",
       "0    Daylily        Container            1             Iris  Perennial   \n",
       "1       Iris        Bulb Pack           25            Peony  Perennial   \n",
       "2      Peony        Root Pack            5            Daisy     Annual   \n",
       "3    Petunia   Container Pack            4          Petunia     Annual   \n",
       "4    Petunia  Mixed Container            1        Impatiens     Annual   \n",
       "5  Impatiens   Container Pack            4  Creeping Myrtle  Perennial   \n",
       "\n",
       "       Sun_Shade  \n",
       "0       Full Sun  \n",
       "1       Full Sun  \n",
       "2    Partial Sun  \n",
       "3    Partial Sun  \n",
       "4  Partial Shade  \n",
       "5     Full Shade  "
      ]
     },
     "execution_count": 26,
     "metadata": {},
     "output_type": "execute_result"
    }
   ],
   "source": [
    "# create a \"join_inner\" table that inner joins garden_supply and flowers:\n",
    "#SOLUTION\n",
    "join_inner = garden_supply.join(flowers, how=\"inner\")\n",
    "join_inner "
   ]
  },
  {
   "cell_type": "code",
   "execution_count": 28,
   "id": "713b4362",
   "metadata": {},
   "outputs": [
    {
     "data": {
      "text/html": [
       "<div>\n",
       "<style scoped>\n",
       "    .dataframe tbody tr th:only-of-type {\n",
       "        vertical-align: middle;\n",
       "    }\n",
       "\n",
       "    .dataframe tbody tr th {\n",
       "        vertical-align: top;\n",
       "    }\n",
       "\n",
       "    .dataframe thead th {\n",
       "        text-align: right;\n",
       "    }\n",
       "</style>\n",
       "<table border=\"1\" class=\"dataframe\">\n",
       "  <thead>\n",
       "    <tr style=\"text-align: right;\">\n",
       "      <th></th>\n",
       "      <th>Flower</th>\n",
       "      <th>Sold_As</th>\n",
       "      <th>Amt_Package</th>\n",
       "      <th>Name</th>\n",
       "      <th>Plant_Type</th>\n",
       "      <th>Sun_Shade</th>\n",
       "    </tr>\n",
       "  </thead>\n",
       "  <tbody>\n",
       "    <tr>\n",
       "      <th>0</th>\n",
       "      <td>Daylily</td>\n",
       "      <td>Container</td>\n",
       "      <td>1</td>\n",
       "      <td>Iris</td>\n",
       "      <td>Perennial</td>\n",
       "      <td>Full Sun</td>\n",
       "    </tr>\n",
       "    <tr>\n",
       "      <th>1</th>\n",
       "      <td>Iris</td>\n",
       "      <td>Bulb Pack</td>\n",
       "      <td>25</td>\n",
       "      <td>Peony</td>\n",
       "      <td>Perennial</td>\n",
       "      <td>Full Sun</td>\n",
       "    </tr>\n",
       "    <tr>\n",
       "      <th>2</th>\n",
       "      <td>Peony</td>\n",
       "      <td>Root Pack</td>\n",
       "      <td>5</td>\n",
       "      <td>Daisy</td>\n",
       "      <td>Annual</td>\n",
       "      <td>Partial Sun</td>\n",
       "    </tr>\n",
       "    <tr>\n",
       "      <th>3</th>\n",
       "      <td>Petunia</td>\n",
       "      <td>Container Pack</td>\n",
       "      <td>4</td>\n",
       "      <td>Petunia</td>\n",
       "      <td>Annual</td>\n",
       "      <td>Partial Sun</td>\n",
       "    </tr>\n",
       "    <tr>\n",
       "      <th>4</th>\n",
       "      <td>Petunia</td>\n",
       "      <td>Mixed Container</td>\n",
       "      <td>1</td>\n",
       "      <td>Impatiens</td>\n",
       "      <td>Annual</td>\n",
       "      <td>Partial Shade</td>\n",
       "    </tr>\n",
       "    <tr>\n",
       "      <th>5</th>\n",
       "      <td>Impatiens</td>\n",
       "      <td>Container Pack</td>\n",
       "      <td>4</td>\n",
       "      <td>Creeping Myrtle</td>\n",
       "      <td>Perennial</td>\n",
       "      <td>Full Shade</td>\n",
       "    </tr>\n",
       "    <tr>\n",
       "      <th>6</th>\n",
       "      <td>Coneflower</td>\n",
       "      <td>Container</td>\n",
       "      <td>1</td>\n",
       "      <td>NaN</td>\n",
       "      <td>NaN</td>\n",
       "      <td>NaN</td>\n",
       "    </tr>\n",
       "  </tbody>\n",
       "</table>\n",
       "</div>"
      ],
      "text/plain": [
       "       Flower          Sold_As  Amt_Package             Name Plant_Type  \\\n",
       "0     Daylily        Container            1             Iris  Perennial   \n",
       "1        Iris        Bulb Pack           25            Peony  Perennial   \n",
       "2       Peony        Root Pack            5            Daisy     Annual   \n",
       "3     Petunia   Container Pack            4          Petunia     Annual   \n",
       "4     Petunia  Mixed Container            1        Impatiens     Annual   \n",
       "5   Impatiens   Container Pack            4  Creeping Myrtle  Perennial   \n",
       "6  Coneflower        Container            1              NaN        NaN   \n",
       "\n",
       "       Sun_Shade  \n",
       "0       Full Sun  \n",
       "1       Full Sun  \n",
       "2    Partial Sun  \n",
       "3    Partial Sun  \n",
       "4  Partial Shade  \n",
       "5     Full Shade  \n",
       "6            NaN  "
      ]
     },
     "execution_count": 28,
     "metadata": {},
     "output_type": "execute_result"
    }
   ],
   "source": [
    "# Below is the code for an outer join\n",
    "join_outer = garden_supply.join(flowers, how=\"outer\")\n",
    "join_outer"
   ]
  },
  {
   "cell_type": "code",
   "execution_count": 21,
   "id": "46081c3c",
   "metadata": {},
   "outputs": [],
   "source": [
    "# Based on what an outer join does, look closely at the table \"join_outer\".  \n",
    "# Explain how these table elements are indexed.\n",
    "    # Answers may vary\n",
    "    # Starts with shared elements, then 6 is only found in the garden supply table\n"
   ]
  }
 ],
 "metadata": {
  "kernelspec": {
   "display_name": "Python 3 (ipykernel)",
   "language": "python",
   "name": "python3"
  },
  "language_info": {
   "codemirror_mode": {
    "name": "ipython",
    "version": 3
   },
   "file_extension": ".py",
   "mimetype": "text/x-python",
   "name": "python",
   "nbconvert_exporter": "python",
   "pygments_lexer": "ipython3",
   "version": "3.9.12"
  }
 },
 "nbformat": 4,
 "nbformat_minor": 5
}
